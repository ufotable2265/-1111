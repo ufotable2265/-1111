{
 "cells": [
  {
   "cell_type": "code",
   "execution_count": null,
   "metadata": {},
   "outputs": [],
   "source": [
    "# 조건 반복문의 이해 (while)\n",
    "import time, random\n",
    "\n",
    "no = 1 # 변수 초기화\n",
    "while True :\n",
    "    time.sleep(0.5)\n",
    "    번호 = random.randrange(1,10+1)\n",
    "    print(f'{no} 번째 숫자는 {번호} 입니다')\n",
    "\n",
    "    no = no+1 # no += 1\n",
    "\n",
    "    if 번호 == 5 :\n",
    "        break"
   ]
  },
  {
   "cell_type": "code",
   "execution_count": 1,
   "metadata": {},
   "outputs": [
    {
     "name": "stdout",
     "output_type": "stream",
     "text": [
      "4\n",
      "c:\\Users\\USER\\OneDrive - 순천대학교\\20232\\기타\\빅터11.11~11.12\\code\n"
     ]
    }
   ],
   "source": [
    "# 디렉토리와 파일 관리\n",
    "import os\n",
    "print(os.cpu_count())\n",
    "print(os.getcwd())"
   ]
  },
  {
   "cell_type": "code",
   "execution_count": null,
   "metadata": {},
   "outputs": [],
   "source": [
    "# 현재 디렉토리(폴더) 파일 목록 출력하기\n",
    "for x, y in enumerate( os.listdir(), start=1 ) :\n",
    "    print(x, y)"
   ]
  },
  {
   "cell_type": "code",
   "execution_count": null,
   "metadata": {},
   "outputs": [],
   "source": [
    "# 파이썬에서 디렉토리(폴더) 구분자(/, //, \\ , \\\\) 사용 방법\n",
    "print(os.listdir('c:/py_temp/'))\n",
    "print(os.listdir('c://py_temp//'))\n",
    "print(os.listdir('c:\\\\py_temp\\\\'))"
   ]
  },
  {
   "cell_type": "code",
   "execution_count": null,
   "metadata": {},
   "outputs": [],
   "source": [
    "print(os.listdir('c:\\py_temp\\'))"
   ]
  },
  {
   "cell_type": "code",
   "execution_count": null,
   "metadata": {},
   "outputs": [],
   "source": [
    "# 파일 생성해서 기록하기\n",
    "import os\n",
    "os.makedirs('c:/py_temp/day_reort/')\n",
    "os.chdir('c:/py_temp/day_reort/')\n",
    "\n",
    "파일 = open('하루일기.txt', 'a')\n",
    "파일.write('오늘 처음 쓴 글입니다.\\n')\n",
    "파일.write('오늘 두번째 쓴 글입니다.\\n')\n",
    "\n",
    "파일.close()"
   ]
  },
  {
   "cell_type": "code",
   "execution_count": null,
   "metadata": {},
   "outputs": [],
   "source": [
    "이름 = '사과','당근','오이','가지','양파'\n",
    "with open('c:/py_temp/day_reort/하루일기.txt', 'a') as 일기 :\n",
    "    for i in 이름 :\n",
    "        일기.write(i + ' 먹었어요\\n')    "
   ]
  },
  {
   "cell_type": "code",
   "execution_count": null,
   "metadata": {},
   "outputs": [],
   "source": [
    "# 디렉토리 생성하고 삭제하기\n",
    "# 생성(makedirs)\n",
    "os.makedirs('c:/py_temp/test/')"
   ]
  },
  {
   "cell_type": "code",
   "execution_count": null,
   "metadata": {},
   "outputs": [],
   "source": [
    "# 삭제(rmdir) - 리무브 디렉토리\n",
    "os.rmdir('c:/py_temp/test/')"
   ]
  },
  {
   "cell_type": "code",
   "execution_count": null,
   "metadata": {},
   "outputs": [],
   "source": [
    "# 예외처리 활용하기(1)\n",
    "try :\n",
    "    no1 = 5 ; no2 = 0\n",
    "    result = no1 / no2\n",
    "except ZeroDivisionError :\n",
    "    print('0으로 나눌 수 없습니다.')\n",
    "else :\n",
    "    print(result)    \n",
    "finally :\n",
    "    print('예외처리 입니다.')"
   ]
  },
  {
   "cell_type": "code",
   "execution_count": null,
   "metadata": {},
   "outputs": [],
   "source": [
    "# 예외처리 활용하기(2)\n",
    "try :\n",
    "    no1 = int(input('숫자를 입력하세요'))\n",
    "    no2 = int(input('숫자를 입력하세요'))\n",
    "    result = no1 / no2\n",
    "except ZeroDivisionError :\n",
    "    print('0으로 나눌 수 없습니다.')\n",
    "except ValueError :\n",
    "    print('잘못 입력했습니다. 다시 실행하세요')\n",
    "else :\n",
    "    print(result)    \n",
    "finally :\n",
    "    print('예외처리 입니다.')"
   ]
  },
  {
   "cell_type": "code",
   "execution_count": null,
   "metadata": {},
   "outputs": [],
   "source": [
    "# 예외처리 활용하기(3) 오류 종류를 모를 때\n",
    "try :\n",
    "    no1 = int(input('숫자를 입력하세요'))\n",
    "    no2 = int(input('숫자를 입력하세요'))\n",
    "    result = no1 / no2\n",
    "\n",
    "# 에러 명칭이 없으면 모든 예외 상황에 대응\n",
    "except :\n",
    "    print('오류가 발생했습니다.')\n",
    "else :\n",
    "    print(result)    \n",
    "finally :\n",
    "    print('예외처리 입니다.')"
   ]
  },
  {
   "cell_type": "code",
   "execution_count": null,
   "metadata": {},
   "outputs": [],
   "source": [
    "# 예외처리 활용하기(4) 오류 종류를 모를 때\n",
    "try :\n",
    "    no1 = int(input('숫자를 입력하세요'))\n",
    "    no2 = int(input('숫자를 입력하세요'))\n",
    "    print(no1 / no2)\n",
    "except :\n",
    "    pass"
   ]
  }
 ],
 "metadata": {
  "kernelspec": {
   "display_name": "base",
   "language": "python",
   "name": "python3"
  },
  "language_info": {
   "codemirror_mode": {
    "name": "ipython",
    "version": 3
   },
   "file_extension": ".py",
   "mimetype": "text/x-python",
   "name": "python",
   "nbconvert_exporter": "python",
   "pygments_lexer": "ipython3",
   "version": "3.10.2"
  },
  "orig_nbformat": 4
 },
 "nbformat": 4,
 "nbformat_minor": 2
}
