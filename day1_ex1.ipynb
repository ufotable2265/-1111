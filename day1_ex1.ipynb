{
 "cells": [
  {
   "cell_type": "code",
   "execution_count": null,
   "metadata": {},
   "outputs": [],
   "source": [
    "print('안녕 파이썬')"
   ]
  },
  {
   "cell_type": "code",
   "execution_count": null,
   "metadata": {},
   "outputs": [],
   "source": [
    "# 변수의 이해\n",
    "가격 = 2000\n",
    "갯수 = 3\n",
    "print(가격 * 갯수)"
   ]
  },
  {
   "cell_type": "code",
   "execution_count": null,
   "metadata": {},
   "outputs": [],
   "source": [
    "# 메모리에 저장된 변수의 위치값 확인하기\n",
    "print('가격 변수의 위치값', id(가격))\n",
    "print('갯수 변수의 위치값', id(갯수))"
   ]
  },
  {
   "cell_type": "code",
   "execution_count": null,
   "metadata": {},
   "outputs": [],
   "source": [
    "# 여러 데이터를 한번에 저장하는 방법\n",
    "자전거보관소 = ('기동 자전거', '진수 자전거')\n",
    "자전거보관소[0]"
   ]
  },
  {
   "cell_type": "code",
   "execution_count": null,
   "metadata": {},
   "outputs": [],
   "source": [
    "# 여러 데이터 변수에 저장 후 필요한 것만 연산하기\n",
    "숫자모음 = (3,5,7,9)\n",
    "print(숫자모음[0] + 숫자모음[3])"
   ]
  },
  {
   "cell_type": "code",
   "execution_count": null,
   "metadata": {},
   "outputs": [],
   "source": [
    "# 다양한 데이터 유형\n",
    "var1 = 3 ; var2 = '삼'\n",
    "print(type(var1), type(var2))"
   ]
  },
  {
   "cell_type": "code",
   "execution_count": null,
   "metadata": {},
   "outputs": [],
   "source": [
    "x = '오늘점심짜장면' ; x[0:3+1]"
   ]
  },
  {
   "cell_type": "code",
   "execution_count": null,
   "metadata": {},
   "outputs": [],
   "source": [
    "# 리스트 유형의 기본 이해\n",
    "리스트1 = ['기동', 3, 5 , '진수']\n",
    "print(type(리스트1[0]), type(리스트1[1]))\n",
    "print(리스트1[1] + 리스트1[2])"
   ]
  },
  {
   "cell_type": "code",
   "execution_count": null,
   "metadata": {},
   "outputs": [],
   "source": [
    "상자1 = ['감자','오이','당근'] ; 상자2 = ['호박','감자','가지']\n",
    "장바구니 = 상자1 + 상자2\n",
    "print(장바구니)\n",
    "\n",
    "장바구니.append('옥수수')\n",
    "print(장바구니)"
   ]
  },
  {
   "cell_type": "code",
   "execution_count": null,
   "metadata": {},
   "outputs": [],
   "source": [
    "# 정렬과 역정렬\n",
    "장바구니.sort() ; print(장바구니)\n",
    "장바구니.reverse() ; print(장바구니)"
   ]
  },
  {
   "cell_type": "code",
   "execution_count": null,
   "metadata": {},
   "outputs": [],
   "source": [
    "# 튜플 데이터 타입의 이해\n",
    "튜플1 = ('사과','감자','당근')\n",
    "print(type(튜플1))\n",
    "print('사과 데이터 갯수', 튜플1.count('사과'), '개')\n",
    "print('사과 데이터 위치', 튜플1.index('사과'), '번째')"
   ]
  },
  {
   "cell_type": "code",
   "execution_count": null,
   "metadata": {},
   "outputs": [],
   "source": [
    "# 함수의 이해!\n",
    "# 1~n 의 값 까지 더하는 프로그램을 함수로만 작성하시오\n",
    "# 단, n의 값은 10으로 정한다\n",
    "print('1~10 더한 값은 :', sum(list(range(1,10+1))))\n",
    "print(f'1~10 더한 값은 : { sum(list(range(1,10+1))) }')"
   ]
  },
  {
   "cell_type": "code",
   "execution_count": null,
   "metadata": {},
   "outputs": [],
   "source": [
    "# f string (f 문자열)\n",
    "# f'출력할 문장 {변수 또는 함수}' \n",
    "a = 3 ; b = 2\n",
    "print(f'{a} + {b} 값은 {a+b} 입니다.')\n",
    "print('{} + {} 값은 {} 입니다.'.format(a,b,a+b))"
   ]
  },
  {
   "cell_type": "code",
   "execution_count": null,
   "metadata": {},
   "outputs": [],
   "source": [
    "# 1~10 까지 데이터를 나열하라~\n",
    "# 1~n 의 값 => 범위 (range 함수)\n",
    "print(tuple(range(1,10+1))) # 1~10 까지를 의미"
   ]
  },
  {
   "cell_type": "code",
   "execution_count": null,
   "metadata": {},
   "outputs": [],
   "source": [
    "# 범위를 지정할 때 ',' , ':' 의 차이\n",
    "# 콤마(,)를 사용하는 이유 => 함수에서 범위를 지정할 때\n",
    "# 콜론(:)를 사용하는 이유 => 배열(시퀀스)에서 범위를 지정할 때\n",
    "\n",
    "var2 = range(1,5+1)\n",
    "for i in var2 :\n",
    "    print(i)\n",
    "\n",
    "var3 = '오늘 점심 짜장면'\n",
    "print(var3[0:3])\n",
    "\n",
    "var4 = ['감자', '당근', '오이']\n",
    "print(var4[0:3])"
   ]
  },
  {
   "cell_type": "code",
   "execution_count": null,
   "metadata": {},
   "outputs": [],
   "source": [
    "import math\n",
    "print(f'황금비는 {round(math.tau, 2)} 입니다')\n",
    "print(f'원주율은 {round(math.pi, 2)} 입니다')"
   ]
  },
  {
   "cell_type": "code",
   "execution_count": null,
   "metadata": {},
   "outputs": [],
   "source": [
    "import math\n",
    "'''\n",
    "math 모듈의 종속 함수인 루트 함수(sqrt)를 호출하고 인자(argument)값으로\n",
    "4를 입력하여 나온 결과값을 int() integer 함수가 받아서 정수로 변환\n",
    "'''\n",
    "print(int(math.sqrt(4)))"
   ]
  },
  {
   "cell_type": "code",
   "execution_count": null,
   "metadata": {},
   "outputs": [],
   "source": [
    "# 함수의 호출과 연산\n",
    "txt1 = '     오늘 점심 짬뽕      '\n",
    "txt1.lstrip().rstrip().replace('짬뽕', '짜장')"
   ]
  },
  {
   "cell_type": "code",
   "execution_count": null,
   "metadata": {},
   "outputs": [],
   "source": [
    "# print 함수의 이해\n",
    "점심 = ['짜장', '짬뽕', '탕슉']\n",
    "저녁 = ['초밥', '떡볶이']\n",
    "\n",
    "print('점심은 %s 먹고 저녁은 %s 먹었어요' %(점심[0], 저녁[0]))\n",
    "print('점심은 {} 먹고 저녁은 {} 먹었어요' .format(점심[0], 저녁[0]))\n",
    "print(f'점심은 {점심[0]} 먹고 저녁은 {저녁[0]} 먹었어요')"
   ]
  },
  {
   "cell_type": "code",
   "execution_count": null,
   "metadata": {},
   "outputs": [],
   "source": [
    "# input 함수의 이해 -> 사용자로부터 데이터 입력 받기\n",
    "no1, no2 = int(input('첫번째 숫자는?')), int(input('두번째 숫자는?'))\n",
    "print(type(no1))\n",
    "print('두 수를 더한 값은 :' , no1 + no2)"
   ]
  },
  {
   "cell_type": "code",
   "execution_count": null,
   "metadata": {},
   "outputs": [],
   "source": [
    "# 사용자 정의 함수의 이해\n",
    "def 더하기(x,y) :\n",
    "    return print(f'{x} + {y} = {x+y}')\n",
    "def 빼기(x,y) :\n",
    "    return print(f'{x} - {y} = {x-y}')\n",
    "def 곱하기(x,y) :\n",
    "    return print(f'{x} * {y} = {x*y}')\n",
    "def 나누기(x,y) :\n",
    "    return print(f'{x} / {y} = {int(x/y)}')"
   ]
  },
  {
   "cell_type": "code",
   "execution_count": null,
   "metadata": {},
   "outputs": [],
   "source": [
    "나누기(3,3)"
   ]
  },
  {
   "cell_type": "code",
   "execution_count": null,
   "metadata": {},
   "outputs": [],
   "source": [
    "# 계산기 모듈 만들기\n",
    "# calc.py 파일 생성, 사용자정의 함수 붙여넣기, 저장\n",
    "# 정의 : 모든 파이썬 파일은 모듈이 될 수 있다.\n",
    "\n",
    "import calc\n",
    "calc.나누기(3,3)\n",
    "\n",
    "import calc as 계산기\n",
    "계산기.곱하기(3,3)\n",
    "\n",
    "from calc import 더하기 as plus\n",
    "plus(3,3)\n",
    "\n",
    "from calc import 빼기\n",
    "빼기(3,3)"
   ]
  }
 ],
 "metadata": {
  "kernelspec": {
   "display_name": "base",
   "language": "python",
   "name": "python3"
  },
  "language_info": {
   "codemirror_mode": {
    "name": "ipython",
    "version": 3
   },
   "file_extension": ".py",
   "mimetype": "text/x-python",
   "name": "python",
   "nbconvert_exporter": "python",
   "pygments_lexer": "ipython3",
   "version": "3.9.12"
  },
  "orig_nbformat": 4
 },
 "nbformat": 4,
 "nbformat_minor": 2
}
