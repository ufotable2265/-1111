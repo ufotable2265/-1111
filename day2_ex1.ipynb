{
 "cells": [
  {
   "cell_type": "code",
   "execution_count": null,
   "metadata": {},
   "outputs": [],
   "source": [
    "import random\n",
    "컵 = ('빨간공','파란공','검은공')\n",
    "가방 = random.choice(컵)\n",
    "\n",
    "if 가방 == '빨간공' :\n",
    "    print(가방, '당첨')\n",
    "    print(가방, '축하')\n",
    "    print(가방, '한번 더!')\n",
    "else :\n",
    "    print(가방, '꽝')"
   ]
  },
  {
   "cell_type": "code",
   "execution_count": null,
   "metadata": {},
   "outputs": [],
   "source": [
    "# 주석 처리 (단축키는 ctrl + 슬래쉬)\n",
    "# 여러 줄 주석처리 ''' ''' \n",
    "'''\n",
    "이것은 '멀티라인 텍스트' 입니다.\n",
    "이렇게 사용할 수 있습니다.\n",
    "'''\n",
    "\n",
    "# 콜론(:) 기호의 사용\n",
    "# 코드 블록 시작을 알리는 용도로 사용됨\n",
    "# def, if, for, while, class"
   ]
  },
  {
   "cell_type": "code",
   "execution_count": null,
   "metadata": {},
   "outputs": [],
   "source": [
    "# 다중조건 분기문\n",
    "점수 = float(input('점수를 입력하세요 : '))\n",
    "\n",
    "if 점수 > 100 :\n",
    "    print('S 등급')\n",
    "elif 점수 >= 91 and 점수 <= 100.9 :\n",
    "    print('A 등급')\n",
    "elif 점수 >= 81 and 점수 <= 90.9 :\n",
    "    print('B 등급')\n",
    "elif 점수 >= 71 and 점수 <= 80.9 :\n",
    "    print('C 등급')    \n",
    "else :\n",
    "    print('D 등급')    "
   ]
  },
  {
   "cell_type": "code",
   "execution_count": null,
   "metadata": {},
   "outputs": [],
   "source": [
    "jumsu = float(input(\"점수를 입력하세요 : \"))\n",
    "\n",
    "if jumsu > 100 :\n",
    "    print('s등급')\n",
    "elif jumsu > 90 :\n",
    "    print(\"A등급\")\n",
    "elif jumsu > 80 :\n",
    "    print(\"B등급\")\n",
    "elif jumsu > 70 :\n",
    "    print(\"C등급\")\n",
    "else :\n",
    "    print('D등급')"
   ]
  },
  {
   "cell_type": "code",
   "execution_count": null,
   "metadata": {},
   "outputs": [],
   "source": [
    "# 반복 횟수를 지정하는 경우, '친구야 놀자' 3회 출력\n",
    "# '_'  언더 스코어 or 언더 바 \n",
    "\n",
    "for _ in range(3) :\n",
    "    print('친구야 놀자')"
   ]
  },
  {
   "cell_type": "code",
   "execution_count": null,
   "metadata": {},
   "outputs": [],
   "source": [
    "# for 반복문 , 순차대입반복(수행)문\n",
    "for i in ('기동', '진수', '재현') :\n",
    "    print(i)"
   ]
  },
  {
   "cell_type": "code",
   "execution_count": null,
   "metadata": {},
   "outputs": [],
   "source": [
    "data1 = ['하나', '둘', '셋']\n",
    "for i in data1 :\n",
    "    print(i)"
   ]
  },
  {
   "cell_type": "code",
   "execution_count": null,
   "metadata": {},
   "outputs": [],
   "source": [
    "data2 = ['기동','진수','재현']\n",
    "for x in data2 :\n",
    "    print(f'{x} 은(는) 제일 친한 친구입니다!')"
   ]
  },
  {
   "cell_type": "code",
   "execution_count": null,
   "metadata": {},
   "outputs": [],
   "source": [
    "for y in range(1,5+1) :\n",
    "    print(f'밥 {y}그릇 주세요')"
   ]
  },
  {
   "cell_type": "code",
   "execution_count": null,
   "metadata": {},
   "outputs": [],
   "source": [
    "# break 문과 continue 문\n",
    "과일 = ['사과','수박','포도','참외','딸기']\n",
    "for i in 과일 :\n",
    "    if i == '포도' :\n",
    "        print(i, '너무 싫어요!')\n",
    "        break\n",
    "    print('{} 너무 맛있어요' .format(i))"
   ]
  },
  {
   "cell_type": "code",
   "execution_count": null,
   "metadata": {},
   "outputs": [],
   "source": [
    "# 오늘 저녁 모두에게 행운이!!!\n",
    "import random, time\n",
    "\n",
    "no_ex = list(range(1,45+1))\n",
    "# no_ex 에서 요소 6개를 중복되지 않게 선택\n",
    "for _ in range(3) :\n",
    "    for idx, i in enumerate(random.sample(no_ex, 6), start=1) : \n",
    "        time.sleep(0.5)\n",
    "        print(f'{idx} 번째 번호는 {i}')\n",
    "    print('\\n')"
   ]
  },
  {
   "cell_type": "code",
   "execution_count": null,
   "metadata": {},
   "outputs": [],
   "source": [
    "for 번호, 이름 in enumerate(['기동','진수','재현'], start=1) :\n",
    "    print(f'{번호}번 {이름}')"
   ]
  }
 ],
 "metadata": {
  "kernelspec": {
   "display_name": "base",
   "language": "python",
   "name": "python3"
  },
  "language_info": {
   "codemirror_mode": {
    "name": "ipython",
    "version": 3
   },
   "file_extension": ".py",
   "mimetype": "text/x-python",
   "name": "python",
   "nbconvert_exporter": "python",
   "pygments_lexer": "ipython3",
   "version": "3.9.12"
  },
  "orig_nbformat": 4
 },
 "nbformat": 4,
 "nbformat_minor": 2
}
